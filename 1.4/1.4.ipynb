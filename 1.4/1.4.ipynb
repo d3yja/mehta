{
 "cells": [
  {
   "cell_type": "markdown",
   "id": "af0b1471",
   "metadata": {},
   "source": [
    "# Funtions"
   ]
  },
  {
   "cell_type": "code",
   "execution_count": 1,
   "id": "a97f4ab1",
   "metadata": {},
   "outputs": [],
   "source": [
    "def dividecakes(no_cakes, people):\n",
    "    \"\"\"Returns the number of cakes each person gets\"\"\" # docstring\n",
    "    each_cake = no_cakes/people\n",
    "    return each_cake"
   ]
  },
  {
   "cell_type": "code",
   "execution_count": 2,
   "id": "98e98205",
   "metadata": {},
   "outputs": [
    {
     "data": {
      "text/plain": [
       "5.0"
      ]
     },
     "execution_count": 2,
     "metadata": {},
     "output_type": "execute_result"
    }
   ],
   "source": [
    "dividecakes(10,2)"
   ]
  },
  {
   "cell_type": "code",
   "execution_count": null,
   "id": "bf2e4bf8",
   "metadata": {},
   "outputs": [
    {
     "data": {
      "text/plain": [
       "1"
      ]
     },
     "execution_count": 4,
     "metadata": {},
     "output_type": "execute_result"
    }
   ],
   "source": [
    "var = 5\n",
    "def hello():\n",
    "    global var\n",
    "    var += 1\n",
    "\n",
    "hello()\n",
    "var"
   ]
  },
  {
   "cell_type": "code",
   "execution_count": 4,
   "id": "a3c35eea",
   "metadata": {},
   "outputs": [
    {
     "name": "stdout",
     "output_type": "stream",
     "text": [
      "[1, 2, 3]\n",
      "[1, 2, 3, 5]\n"
     ]
    }
   ],
   "source": [
    "def modify_list(a):\n",
    "    a.append(5)\n",
    "    return a\n",
    "a = [1 , 2 , 3]\n",
    "modified_list = modify_list(a.copy())\n",
    "print(a)\n",
    "print(modified_list)"
   ]
  },
  {
   "cell_type": "code",
   "execution_count": 5,
   "id": "e6e9740d",
   "metadata": {},
   "outputs": [
    {
     "name": "stdout",
     "output_type": "stream",
     "text": [
      "5\n",
      "10\n"
     ]
    }
   ],
   "source": [
    "def modify_num(a):\n",
    "    a+= 5\n",
    "    return a\n",
    "a = 5\n",
    "modified_num = modify_num(a)\n",
    "print(a)\n",
    "print(modified_num)"
   ]
  },
  {
   "cell_type": "code",
   "execution_count": 7,
   "id": "5de773aa",
   "metadata": {},
   "outputs": [
    {
     "name": "stdout",
     "output_type": "stream",
     "text": [
      "6\n"
     ]
    }
   ],
   "source": [
    "def sumall(a,b=3, c= 2):\n",
    "    return a + b + c\n",
    "print(sumall(1))"
   ]
  },
  {
   "cell_type": "code",
   "execution_count": 8,
   "id": "9f572996",
   "metadata": {},
   "outputs": [
    {
     "data": {
      "text/plain": [
       "10"
      ]
     },
     "execution_count": 8,
     "metadata": {},
     "output_type": "execute_result"
    }
   ],
   "source": [
    "sumall(6,2)"
   ]
  },
  {
   "cell_type": "code",
   "execution_count": 9,
   "id": "8c973cd0",
   "metadata": {},
   "outputs": [
    {
     "name": "stdout",
     "output_type": "stream",
     "text": [
      "ONGG THEY TRYNA DROWN ME IN DIS BITSH\n"
     ]
    }
   ],
   "source": [
    "def outall():\n",
    "    print(\"ONGG THEY TRYNA DROWN ME IN DIS BITSH\")\n",
    "outall()"
   ]
  },
  {
   "cell_type": "code",
   "execution_count": 13,
   "id": "1d81dd26",
   "metadata": {},
   "outputs": [
    {
     "name": "stdout",
     "output_type": "stream",
     "text": [
      "hello\n",
      "now printing args\n",
      "bye\n",
      "hi\n",
      "good morning\n",
      "night night\n"
     ]
    }
   ],
   "source": [
    "# *args\n",
    "def test_args(var_1,*args):\n",
    "    print(var_1)\n",
    "    print(\"now printing args\")\n",
    "    for arg in args:\n",
    "        print(arg)\n",
    "test_args(\"hello\", 'bye', 'hi', 'good morning', 'night night')"
   ]
  },
  {
   "cell_type": "code",
   "execution_count": 14,
   "id": "7465c524",
   "metadata": {},
   "outputs": [
    {
     "name": "stdout",
     "output_type": "stream",
     "text": [
      "We have representation from USA , Burger\n",
      "We have representation from India , Biryani\n",
      "We have representation from Japan , Sushi\n"
     ]
    }
   ],
   "source": [
    "# kwargs\n",
    "def food(**kwargs):\n",
    "    for key, value in kwargs.items():\n",
    "        print(\"We have representation from \" + key + \" , \" + value)\n",
    "food(USA=\"Burger\", India=\"Biryani\", Japan=\"Sushi\")"
   ]
  },
  {
   "cell_type": "code",
   "execution_count": 16,
   "id": "2160ecfb",
   "metadata": {},
   "outputs": [
    {
     "name": "stdout",
     "output_type": "stream",
     "text": [
      "1 0 1\n",
      "(5, 0, 1)\n"
     ]
    }
   ],
   "source": [
    "def all(a,b=0, c =1):\n",
    "    return a,b,c\n",
    "one,two,three = all(1)\n",
    "print(one,two,three)\n",
    "values = all(5)\n",
    "print(values)"
   ]
  },
  {
   "cell_type": "code",
   "execution_count": 17,
   "id": "544eac3e",
   "metadata": {},
   "outputs": [
    {
     "data": {
      "text/plain": [
       "'Greater than 5'"
      ]
     },
     "execution_count": 17,
     "metadata": {},
     "output_type": "execute_result"
    }
   ],
   "source": [
    "def if_else(a):\n",
    "    if a > 5:\n",
    "        return \"Greater than 5\"\n",
    "    return \"Less than or equal to 5\"\n",
    "if_else(6)"
   ]
  }
 ],
 "metadata": {
  "kernelspec": {
   "display_name": "tensorflow_cpu",
   "language": "python",
   "name": "python3"
  },
  "language_info": {
   "codemirror_mode": {
    "name": "ipython",
    "version": 3
   },
   "file_extension": ".py",
   "mimetype": "text/x-python",
   "name": "python",
   "nbconvert_exporter": "python",
   "pygments_lexer": "ipython3",
   "version": "3.10.13"
  }
 },
 "nbformat": 4,
 "nbformat_minor": 5
}
