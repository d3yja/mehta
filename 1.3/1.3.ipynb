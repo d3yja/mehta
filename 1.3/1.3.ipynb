{
 "cells": [
  {
   "cell_type": "code",
   "execution_count": 1,
   "id": "599c8be7",
   "metadata": {},
   "outputs": [
    {
     "name": "stdout",
     "output_type": "stream",
     "text": [
      "0 meow\n",
      "1 woof\n",
      "2 heehaw\n"
     ]
    }
   ],
   "source": [
    "a = [\"meow\", \"woof\", \"heehaw\"]\n",
    "for index, value in enumerate(a):\n",
    "    print(index, value)"
   ]
  },
  {
   "cell_type": "code",
   "execution_count": 3,
   "id": "e7030390",
   "metadata": {},
   "outputs": [
    {
     "name": "stdout",
     "output_type": "stream",
     "text": [
      "1 a\n",
      "2 b\n",
      "3 c\n"
     ]
    }
   ],
   "source": [
    "a = [\"a\", \"b\", \"c\"]\n",
    "b = [1,2,3]\n",
    "for index, value in enumerate(a):\n",
    "    print(b[index], value)"
   ]
  },
  {
   "cell_type": "code",
   "execution_count": 4,
   "id": "043c32e0",
   "metadata": {},
   "outputs": [
    {
     "name": "stdout",
     "output_type": "stream",
     "text": [
      "m\n",
      "e\n",
      "o\n",
      "w\n"
     ]
    }
   ],
   "source": [
    "a = \"meow\"\n",
    "for i in range(len(a)):\n",
    "    print(a[i])"
   ]
  },
  {
   "cell_type": "code",
   "execution_count": 5,
   "id": "4f115757",
   "metadata": {},
   "outputs": [
    {
     "name": "stdout",
     "output_type": "stream",
     "text": [
      "cat meow\n",
      "dog woof\n",
      "horse heehaw\n"
     ]
    }
   ],
   "source": [
    "animal_sounds = {\"cat\": \"meow\", \"dog\": \"woof\", \"horse\": \"heehaw\"}\n",
    "for i in animal_sounds:\n",
    "    print(i, animal_sounds[i])"
   ]
  },
  {
   "cell_type": "code",
   "execution_count": 6,
   "id": "686dc4e4",
   "metadata": {},
   "outputs": [
    {
     "name": "stdout",
     "output_type": "stream",
     "text": [
      "meow\n",
      "woof\n",
      "heehaw\n"
     ]
    }
   ],
   "source": [
    "for i in animal_sounds.values():\n",
    "    print(i)"
   ]
  },
  {
   "cell_type": "code",
   "execution_count": 7,
   "id": "162efa28",
   "metadata": {},
   "outputs": [
    {
     "name": "stdout",
     "output_type": "stream",
     "text": [
      "cat meow\n",
      "dog woof\n",
      "horse heehaw\n"
     ]
    }
   ],
   "source": [
    "for animal, sounds in animal_sounds.items():\n",
    "    print(animal, sounds)"
   ]
  },
  {
   "cell_type": "code",
   "execution_count": 8,
   "id": "219dd64a",
   "metadata": {},
   "outputs": [
    {
     "name": "stdout",
     "output_type": "stream",
     "text": [
      "1\n",
      "2\n",
      "3\n",
      "4\n",
      "5\n",
      "6\n",
      "7\n",
      "8\n",
      "9\n",
      "10\n"
     ]
    }
   ],
   "source": [
    "x = [[1,2,3,4,5], [6,7,8,9,10]]\n",
    "for i in range(len(x)):\n",
    "    for j in range(len(x[i])):\n",
    "        print(x[i][j])"
   ]
  },
  {
   "cell_type": "code",
   "execution_count": 9,
   "id": "642acd8f",
   "metadata": {},
   "outputs": [
    {
     "name": "stdout",
     "output_type": "stream",
     "text": [
      "chair\n",
      "sofa\n"
     ]
    }
   ],
   "source": [
    "furniture = [\"chair\", \"table\", \"sofa\"]\n",
    "for i in furniture:\n",
    "    if i == \"table\":\n",
    "        continue\n",
    "    print(i)"
   ]
  },
  {
   "cell_type": "markdown",
   "id": "209f4045",
   "metadata": {},
   "source": [
    "# Lambda, Map, Filter, Reduce"
   ]
  },
  {
   "cell_type": "code",
   "execution_count": null,
   "id": "853d44b4",
   "metadata": {},
   "outputs": [],
   "source": [
    "# filter"
   ]
  },
  {
   "cell_type": "code",
   "execution_count": 13,
   "id": "b47722db",
   "metadata": {},
   "outputs": [
    {
     "name": "stdout",
     "output_type": "stream",
     "text": [
      "[3, 5]\n",
      "[-1001]\n"
     ]
    }
   ],
   "source": [
    "numbers = [-1, 0, -1001, 3, 5]\n",
    "positive = list(filter(lambda x: x>0, numbers))\n",
    "print(positive)\n",
    "positive = list(filter(lambda x: x == -1001, numbers))\n",
    "print(positive)"
   ]
  },
  {
   "cell_type": "code",
   "execution_count": null,
   "id": "6e6745ec",
   "metadata": {},
   "outputs": [],
   "source": [
    "# lambda & map"
   ]
  },
  {
   "cell_type": "code",
   "execution_count": 14,
   "id": "fa5ba8f0",
   "metadata": {},
   "outputs": [
    {
     "name": "stdout",
     "output_type": "stream",
     "text": [
      "[1, 4, 9, 16, 25]\n"
     ]
    }
   ],
   "source": [
    "numbers = [1,2,3,4,5]\n",
    "squared = list(map(lambda x: x**2, numbers))\n",
    "print(squared)"
   ]
  },
  {
   "cell_type": "code",
   "execution_count": 15,
   "id": "98673416",
   "metadata": {},
   "outputs": [
    {
     "name": "stdout",
     "output_type": "stream",
     "text": [
      "[3, 4, 5, 6, 7]\n"
     ]
    }
   ],
   "source": [
    "addtwo = list(map(lambda x: x+2, numbers))\n",
    "print(addtwo)"
   ]
  },
  {
   "cell_type": "code",
   "execution_count": 16,
   "id": "5df0a296",
   "metadata": {},
   "outputs": [
    {
     "name": "stdout",
     "output_type": "stream",
     "text": [
      "[1, 0.5]\n"
     ]
    }
   ],
   "source": [
    "# remove elements whose absolute value is greater than 1\n",
    "numbers = [1, -2, 3, -5, 9, 0.5]\n",
    "abs_one = list(filter(lambda x:abs(x) <= 1, numbers))\n",
    "print(abs_one)"
   ]
  },
  {
   "cell_type": "code",
   "execution_count": 18,
   "id": "f2ceb8c3",
   "metadata": {},
   "outputs": [
    {
     "name": "stdout",
     "output_type": "stream",
     "text": [
      "120\n"
     ]
    }
   ],
   "source": [
    "from functools import reduce\n",
    "numbers = [1, 2, 3, 4, 5]\n",
    "rolling_multiply = reduce(lambda x, y: x * y, numbers)\n",
    "print(rolling_multiply)"
   ]
  },
  {
   "cell_type": "code",
   "execution_count": 24,
   "id": "2a1ace52",
   "metadata": {},
   "outputs": [],
   "source": [
    "numbers =[1,2, 3, 4, 5]\n",
    "result = reduce(lambda a , b: a * b, numbers)"
   ]
  },
  {
   "cell_type": "markdown",
   "id": "ab8a1a4e",
   "metadata": {},
   "source": [
    "# Exeptions and Assertions"
   ]
  },
  {
   "cell_type": "code",
   "execution_count": null,
   "id": "bf29a208",
   "metadata": {},
   "outputs": [],
   "source": [
    "# exceptions"
   ]
  },
  {
   "cell_type": "code",
   "execution_count": 25,
   "id": "422594de",
   "metadata": {},
   "outputs": [
    {
     "ename": "SyntaxError",
     "evalue": "unterminated string literal (detected at line 1) (2148699693.py, line 1)",
     "output_type": "error",
     "traceback": [
      "\u001b[1;36m  Cell \u001b[1;32mIn[25], line 1\u001b[1;36m\u001b[0m\n\u001b[1;33m    print(\"hell)\u001b[0m\n\u001b[1;37m          ^\u001b[0m\n\u001b[1;31mSyntaxError\u001b[0m\u001b[1;31m:\u001b[0m unterminated string literal (detected at line 1)\n"
     ]
    }
   ],
   "source": [
    "print(\"hell)"
   ]
  },
  {
   "cell_type": "code",
   "execution_count": 26,
   "id": "44b7c965",
   "metadata": {},
   "outputs": [
    {
     "ename": "IndexError",
     "evalue": "list index out of range",
     "output_type": "error",
     "traceback": [
      "\u001b[1;31m---------------------------------------------------------------------------\u001b[0m",
      "\u001b[1;31mIndexError\u001b[0m                                Traceback (most recent call last)",
      "Cell \u001b[1;32mIn[26], line 2\u001b[0m\n\u001b[0;32m      1\u001b[0m a \u001b[38;5;241m=\u001b[39m [\u001b[38;5;241m1\u001b[39m,\u001b[38;5;241m1\u001b[39m,\u001b[38;5;241m1\u001b[39m,\u001b[38;5;241m1\u001b[39m,\u001b[38;5;241m1\u001b[39m,\u001b[38;5;241m1\u001b[39m,\u001b[38;5;241m1\u001b[39m,]\n\u001b[1;32m----> 2\u001b[0m \u001b[43ma\u001b[49m\u001b[43m[\u001b[49m\u001b[38;5;241;43m100\u001b[39;49m\u001b[43m]\u001b[49m\n",
      "\u001b[1;31mIndexError\u001b[0m: list index out of range"
     ]
    }
   ],
   "source": [
    "a = [1,1,1,1,1,1,1,]\n",
    "a[100]"
   ]
  },
  {
   "cell_type": "code",
   "execution_count": 28,
   "id": "a4e68a75",
   "metadata": {},
   "outputs": [
    {
     "ename": "NameError",
     "evalue": "name 'z' is not defined",
     "output_type": "error",
     "traceback": [
      "\u001b[1;31m---------------------------------------------------------------------------\u001b[0m",
      "\u001b[1;31mNameError\u001b[0m                                 Traceback (most recent call last)",
      "Cell \u001b[1;32mIn[28], line 1\u001b[0m\n\u001b[1;32m----> 1\u001b[0m \u001b[43mz\u001b[49m\u001b[38;5;241m*\u001b[39m\u001b[38;5;241m3\u001b[39m\n",
      "\u001b[1;31mNameError\u001b[0m: name 'z' is not defined"
     ]
    }
   ],
   "source": [
    "z*3"
   ]
  },
  {
   "cell_type": "code",
   "execution_count": 29,
   "id": "cc04154a",
   "metadata": {},
   "outputs": [
    {
     "ename": "SyntaxError",
     "evalue": "invalid syntax. Perhaps you forgot a comma? (1273464538.py, line 1)",
     "output_type": "error",
     "traceback": [
      "\u001b[1;36m  Cell \u001b[1;32mIn[29], line 1\u001b[1;36m\u001b[0m\n\u001b[1;33m    print(5 _ \"cale\")\u001b[0m\n\u001b[1;37m          ^\u001b[0m\n\u001b[1;31mSyntaxError\u001b[0m\u001b[1;31m:\u001b[0m invalid syntax. Perhaps you forgot a comma?\n"
     ]
    }
   ],
   "source": [
    "print(5 _ \"cale\")"
   ]
  },
  {
   "cell_type": "code",
   "execution_count": 30,
   "id": "6fe6d8b0",
   "metadata": {},
   "outputs": [
    {
     "name": "stdout",
     "output_type": "stream",
     "text": [
      "ig 0's a complicated lil sunovabich\n"
     ]
    }
   ],
   "source": [
    "try:\n",
    "    print(5/0)\n",
    "except ZeroDivisionError:\n",
    "    print(\"ig 0's a complicated lil sunovabich\")"
   ]
  },
  {
   "cell_type": "code",
   "execution_count": 31,
   "id": "ca8c3ec3",
   "metadata": {},
   "outputs": [],
   "source": [
    "try:\n",
    "    print(5/0)\n",
    "except:\n",
    "    pass"
   ]
  },
  {
   "cell_type": "code",
   "execution_count": 35,
   "id": "13b3654b",
   "metadata": {},
   "outputs": [
    {
     "ename": "AssertionError",
     "evalue": "a must be positive",
     "output_type": "error",
     "traceback": [
      "\u001b[1;31m---------------------------------------------------------------------------\u001b[0m",
      "\u001b[1;31mAssertionError\u001b[0m                            Traceback (most recent call last)",
      "Cell \u001b[1;32mIn[35], line 4\u001b[0m\n\u001b[0;32m      1\u001b[0m \u001b[38;5;66;03m# Assertions\u001b[39;00m\n\u001b[0;32m      3\u001b[0m a \u001b[38;5;241m=\u001b[39m \u001b[38;5;241m-\u001b[39m\u001b[38;5;241m5\u001b[39m\n\u001b[1;32m----> 4\u001b[0m \u001b[38;5;28;01massert\u001b[39;00m (a \u001b[38;5;241m>\u001b[39m \u001b[38;5;241m0\u001b[39m ), \u001b[38;5;124m\"\u001b[39m\u001b[38;5;124ma must be positive\u001b[39m\u001b[38;5;124m\"\u001b[39m\n\u001b[0;32m      5\u001b[0m a\u001b[38;5;241m+\u001b[39m\u001b[38;5;241m=\u001b[39m \u001b[38;5;241m1\u001b[39m\n\u001b[0;32m      6\u001b[0m \u001b[38;5;28mprint\u001b[39m(a)\n",
      "\u001b[1;31mAssertionError\u001b[0m: a must be positive"
     ]
    }
   ],
   "source": [
    "# Assertions\n",
    "\n",
    "a = -5\n",
    "assert (a > 0 ), \"a must be positive\"\n",
    "a+= 1\n",
    "print(a)"
   ]
  },
  {
   "cell_type": "code",
   "execution_count": null,
   "id": "f6186a7e",
   "metadata": {},
   "outputs": [],
   "source": [
    "candies = 0\n",
    "if candies > 0:\n",
    "    print(\"tehre's candies for you\")\n",
    "if candies <= 0:\n",
    "    print(\"no candies for you\")"
   ]
  },
  {
   "cell_type": "code",
   "execution_count": 5,
   "id": "1ee147d7",
   "metadata": {},
   "outputs": [
    {
     "name": "stdout",
     "output_type": "stream",
     "text": [
      "16777216\n"
     ]
    }
   ],
   "source": [
    "num = 2\n",
    "num *= num\n",
    "x = num\n",
    "for i in range(2):\n",
    "    num = num*x\n",
    "x = num\n",
    "for j in range(3):\n",
    "    num = num*x\n",
    "print(num)"
   ]
  },
  {
   "cell_type": "code",
   "execution_count": 14,
   "id": "25683c1f",
   "metadata": {},
   "outputs": [
    {
     "name": "stdout",
     "output_type": "stream",
     "text": [
      "282429536481\n"
     ]
    }
   ],
   "source": [
    "x = 3\n",
    "for i in range(2,5):\n",
    "    x = x ** i\n",
    "print(x)"
   ]
  },
  {
   "cell_type": "code",
   "execution_count": 13,
   "id": "976179d4",
   "metadata": {},
   "outputs": [
    {
     "name": "stdout",
     "output_type": "stream",
     "text": [
      "282429536481\n"
     ]
    }
   ],
   "source": [
    "x = 3\n",
    "temp = x\n",
    "for i in range(1, 4):\n",
    "    for j in range(i):\n",
    "        x = x * temp\n",
    "    temp = x\n",
    "print(x)\n"
   ]
  }
 ],
 "metadata": {
  "kernelspec": {
   "display_name": "tensorflow_cpu",
   "language": "python",
   "name": "python3"
  },
  "language_info": {
   "codemirror_mode": {
    "name": "ipython",
    "version": 3
   },
   "file_extension": ".py",
   "mimetype": "text/x-python",
   "name": "python",
   "nbconvert_exporter": "python",
   "pygments_lexer": "ipython3",
   "version": "3.10.13"
  }
 },
 "nbformat": 4,
 "nbformat_minor": 5
}
